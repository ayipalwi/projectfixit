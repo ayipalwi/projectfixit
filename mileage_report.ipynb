# -------------------------------------------------------------------------------- NOTEBOOK-CELL: CODE
# -*- coding: utf-8 -*-
import dataiku
import pandas as pd
from typing import List
import numpy as np
import xlsxwriter
from openpyxl.utils.dataframe import dataframe_to_rows
from openpyxl import load_workbook
import openpyxl
from openpyxl.styles import Font, Alignment
from dataiku import pandasutils as pdu
import os
import io
from my_func.my_func import *

# -------------------------------------------------------------------------------- NOTEBOOK-CELL: CODE
print(f" #### Start Now: {datetime.now(tz)} ####")

# -------------------------------------------------------------------------------- NOTEBOOK-CELL: CODE
# Read recipe inputs
fixit_temp = dataiku.Folder("6d8MNaBt")
fixit_temp_info = fixit_temp.get_info()

# Dataset mileage renamed to mileage_1_valid by alwia on 2025-06-02 03:42:45
mileage = dataiku.Dataset("valid_mileage")
mileage_df = mileage.get_dataframe()

# Dataset invalid_mileage_ds renamed to mileage_1_invalid by alwia on 2025-06-02 03:43:02
invalid = dataiku.Dataset("invalid_mileage")
invalid_df = invalid.get_dataframe()

pd.options.display.float_format = '{:,}'.format
pd.set_option('display.max_columns', 500)

# -------------------------------------------------------------------------------- NOTEBOOK-CELL: MARKDOWN
# # Getting the report period based on trigger date

# -------------------------------------------------------------------------------- NOTEBOOK-CELL: CODE
get_Date = str(getCurrentDate())
# getting report range 1-15 when triggered on 24th every month
if get_Date == '24':
    validation = 'Valid'
    min_date = getfirstDate()
    max_date = getfifteenDate()
    mileage_df = mileage_df.loc[mileage_df['flag']=='1-15'].sort_values(by=['date','emp_name'])
    invalid_df = invalid_df.loc[invalid_df['flag']=='1-15'].sort_values(by=['date','emp_name'])
elif get_Date == '4': # getting report range 16-end_of_month when triggered on 4th every month
    validation = 'Valid'
    min_date = getsixteenDate()
    max_date = getEndDate()
    mileage_df = mileage_df.loc[mileage_df['flag']=='16-end'].sort_values(by=['date','emp_name'])
    invalid_df = invalid_df.loc[invalid_df['flag']=='16-end'].sort_values(by=['date','emp_name'])
else:
    validation = 'Invalid'
    print("Not correct period for triggering the report")

# -------------------------------------------------------------------------------- NOTEBOOK-CELL: CODE
if validation == 'Valid':
    invalid_df = invalid_df[['bu', 'emp_name', 'emp_alias', 'emp_town', 'hcp_town', 'emp_mng_name', 'emp_mng_alias', 'date']]
    invalid_df['date'] = invalid_df['date'].dt.strftime('%Y-%m-%d')
    #check = invalid_df.loc[invalid_df['emp_alias']=='DUKALEN']
    #print(check)
    invalid_df.head()
else:
    print("Not generating any data")

# -------------------------------------------------------------------------------- NOTEBOOK-CELL: MARKDOWN
# # Calculate Mileage Allowance & Total Allowance

# -------------------------------------------------------------------------------- NOTEBOOK-CELL: CODE
if validation == 'Valid':
    # Calculate new columns
    mileage_df['Per-diem Eligibility'] = mileage_df['roles'].apply(lambda x: '0' if x == 'RBM' else '1')
    mileage_df['Personal Car Mileage Allowance Count'] = mileage_df['type_town'].apply(lambda x: '1' if x == 'Ex HQ' else '0')

    mileage_df['Personal Car Mileage Allowance amount'] = 2 * mileage_df['Personal Car Mileage Allowance Count'].astype(float) * mileage_df['distance_km'] * mileage_df['personal_car_mileage_allowance'].astype(float)
    mileage_df['Personal Car Mileage Allowance amount2'] = round(2 * mileage_df['Personal Car Mileage Allowance Count'].astype(float) * mileage_df['distance_km'])
    mileage_df['Personal Car Mileage Allowance amount'] = round(mileage_df['Personal Car Mileage Allowance amount2'] * mileage_df['personal_car_mileage_allowance'].astype(float))
    mileage_df['Total Allowance'] = mileage_df['Personal Car Mileage Allowance amount'] + mileage_df['per-diem_allowance']
    mileage_df['distance_km'] = mileage_df['distance_km'].round(0).astype(int)
    mileage_df['Personal Car Mileage Allowance amount'] = mileage_df['Personal Car Mileage Allowance amount'].round(0).astype(int)
    mileage_df['Total Allowance'] = mileage_df['Total Allowance'].round(0).astype(int)
    mileage_df.drop(columns=['Personal Car Mileage Allowance amount2'])
else:
    print("Not generating any data")

# -------------------------------------------------------------------------------- NOTEBOOK-CELL: MARKDOWN
# # Employee Sending Report

# -------------------------------------------------------------------------------- NOTEBOOK-CELL: CODE
if validation == 'Valid':
    #emp_list_df = mileage_df['emp_alias'].sort_values().unique().tolist() #use this for go-live
    emp_list_df = ['SHUKLAAS', 'FARIDI', 'PONMALER', 'SHARDAS']

    for alias in emp_list_df:
        emp_df = mileage_df.loc[mileage_df['emp_alias'] == alias]
        emp_df['code'] = emp_df['emp_id'].astype(str) + '_' + emp_df['date'].dt.strftime('%Y-%m-%d')
        emp_df['date'] = emp_df['date'].dt.strftime('%Y-%m-%d')
        emp_df['date2'] = pd.to_datetime(emp_df['date'])
        emp_df['date2'] = emp_df['date2'].dt.strftime('%d-%m-%Y')
        emp_df = emp_df.drop_duplicates(subset='code', keep='first')
        #min_date = emp_df['date2'].min()
        #max_date = emp_df['date2'].max()
        #min_date = getStartDate()
        #max_date = getEndDate()
        #week = mileage_df['date'].min()
        #week = (week.day - 1) // 7 + 1
        emp_email = emp_df['emp_email'].drop_duplicates()
        emp_email = emp_email.iloc[0]

        invalid_city_df = invalid_df.loc[invalid_df['emp_alias'] == alias]

        emp_alias = emp_df['emp_alias'].drop_duplicates()
        emp_name = emp_df['emp_name'].drop_duplicates()
        emp_df = emp_df.rename(columns=
                    {
                    'bu': 'BU',
                    'emp_alias': 'ISID',
                    'emp_name': 'Name',
                    'date': 'Call Date',
                    'roles': 'Role',
                    'emp_mng_name': 'Manager',
                    '#calls': '# of Calls',
                    'emp_town': 'Emp Town',
                    'hcp_town': 'HCP Town',
                    'per-diem_allowance': 'Per-Diem',
                    'Per-diem Eligibility': 'PDE',
                    'expense_category': 'Exp Category',
                    'distance_km': 'Max Mileage',
                    'Personal Car Mileage Allowance Count': 'PCME',
                    'Personal Car Mileage Allowance amount': 'PCM Amount',
                    }
        )
        emp_df.head()
        if not emp_alias.empty:
            emp_alias = emp_alias.iloc[0].lower()
            emp_name = emp_name.iloc[0]

            pdf_filename = f"emp/FF Expense Report For {emp_name} _ {min_date} - {max_date}.pdf"  # Desired filename in the folder


            columns_to_include = ['BU',
                                  'ISID',
                                  'Name',
                                  'Call Date',
                                  'Role',
                                  'Manager',
                                  '# of Calls',
                                  'Emp Town',
                                  'HCP Town',
                                  'Exp Category',
                                  'PDE',
                                  'PCME',
                                  'Max Mileage',
                                  'Per-Diem',
                                  'PCM Amount',
                                  'Total Allowance'
                                 ]

            columns_to_include2 = [
                                  'emp_name',
                                  'date'
                                 ]

            pdf_buffer = create_pdf_report(emp_df, columns_to_include, emp_name, min_date, max_date, invalid_city_df, columns_to_include2)

            # Upload the PDF to the Dataiku folder
            fixit_temp.upload_stream(pdf_filename, pdf_buffer)

            # Read PDF file from a Dataiku folder
            with fixit_temp.get_download_stream(pdf_filename) as pdf_stream:
                pdf_buffer = io.BytesIO(pdf_stream.read())

            # Save the PDF buffer to a temporary file
            temp_pdf_path = f"/tmp/FF Expense Report For {emp_name} _ {min_date} - {max_date}.pdf"  # Temporary path to save the PDF

            with open(temp_pdf_path, 'wb') as temp_pdf_file:
                temp_pdf_file.write(pdf_buffer.getvalue())

            # Send email send_email_with_pdf(email, name, file_path, month_year)
            #send_email_with_pdf(emp_email, emp_name, temp_pdf_path, min_date, max_date) #use this for go-live
            print(emp_email) #debugging
            send_email_with_pdf('ayip.alwi@merck.com', emp_name, temp_pdf_path, min_date, max_date) #debugging
            fixit_temp.delete_path(pdf_filename)

        else:
            print("No matching employee alias found.")
else:
    print("Not Generating any data")

# -------------------------------------------------------------------------------- NOTEBOOK-CELL: MARKDOWN
# # Manager Sending Report

# -------------------------------------------------------------------------------- NOTEBOOK-CELL: CODE
if validation == 'Valid':
    #mng_list_df = mileage_df['emp_mng_alias'].sort_values().unique().tolist() #use this for go-live
    mng_list_df = ['PONMALER', 'SHARDAS']

    for alias in mng_list_df:
        #mng_df_test = mileage_df.loc[mileage_df['emp_mng_name'].str.contains(name, na=False)]
        mng_df = mileage_df.loc[mileage_df['emp_mng_alias'] == alias]
        mng_df['code'] = mng_df['emp_id'].astype(str) + '_' + mng_df['date'].dt.strftime('%Y-%m-%d')
        mng_df['date'] = mng_df['date'].dt.strftime('%Y-%m-%d')
        mng_df['date2'] = pd.to_datetime(mng_df['date'])
        mng_df['date2'] = mng_df['date2'].dt.strftime('%d-%m-%Y')
        mng_df = mng_df.drop_duplicates(subset='code', keep='first')

        mng_alias = mng_df['emp_mng_alias'].drop_duplicates()
        mng_name = mng_df['emp_mng_name'].drop_duplicates()
        mng_email = mng_df['emp_mng_email'].drop_duplicates()
        mng_email = mng_email.iloc[0]

        invalid_city_df = invalid_df.loc[invalid_df['emp_mng_alias'] == alias]
        invalid_city_df = invalid_city_df.drop_duplicates()

        print(min_date)
        print(max_date)

        mng_df = mng_df.rename(columns={
            'bu': 'BU',
            'emp_alias': 'ISID',
            'emp_name': 'Name',
            'date': 'Call Date',
            'roles': 'Role',
            'emp_mng_name': 'Manager',
            '#calls': '# of Calls',
            'emp_town': 'Emp Town',
            'hcp_town': 'HCP Town',
            'per-diem_allowance': 'Per-Diem',
            'Per-diem Eligibility': 'PDE',
            'expense_category': 'Exp Category',
            'distance_km': 'Max Mileage',
            'Personal Car Mileage Allowance Count': 'PCME',
            'Personal Car Mileage Allowance amount': 'PCM Amount',
        })
        if not mng_name.empty:
            #mng_alias = mng_alias.iloc[0].lower()
            mng_name = mng_name.iloc[0]


            pdf_filename2 = f"mng/FF Expense Report for {mng_name} _ {min_date} - {max_date}.pdf"

            columns_to_include = ['BU',
                                  'ISID',
                                  'Name',
                                  'Call Date',
                                  'Role',
                                  'Manager',
                                  '# of Calls',
                                  'Emp Town',
                                  'HCP Town',
                                  'Exp Category',
                                  'PDE',
                                  'PCME',
                                  'Max Mileage',
                                  'Per-Diem',
                                  'PCM Amount',
                                  'Total Allowance'
                                 ]
            columns_to_include2 = [
                                   'emp_name',
                                   'date'
                                  ]
            pdf_buffer2 = create_pdf_report2(mng_df, columns_to_include, min_date, max_date, invalid_city_df, columns_to_include2)

            # Upload the PDF to the Dataiku folder
            fixit_temp.upload_stream(pdf_filename2, pdf_buffer2)

             # Read PDF file from a Dataiku folder
            with fixit_temp.get_download_stream(pdf_filename2) as pdf_stream:
                pdf_buffer2 = io.BytesIO(pdf_stream.read())

            # Save the PDF buffer to a temporary file
            temp_pdf_path2 = f"/tmp/FF Expense Report for {mng_name} _ {min_date} - {max_date}.pdf"  # Temporary path to save the PDF
            with open(temp_pdf_path2, 'wb') as temp_pdf_file2:
                temp_pdf_file2.write(pdf_buffer2.getvalue())

            print(mng_email) #debugging email
            # Send email send_email_with_pdf(email, name, file_path, month_year)
            #send_email_with_pdf2(mng_email, mng_name, temp_pdf_path2, min_date, max_date) #use this for go-live
            send_email_with_pdf2('ayip.alwi@merck.com', mng_name, temp_pdf_path2, min_date, max_date) #debugging
            fixit_temp.delete_path(pdf_filename2)
        else:
            print("No matching employee alias found.")
else:
    print("Not generating any data")
